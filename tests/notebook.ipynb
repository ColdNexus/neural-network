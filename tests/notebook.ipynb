{
 "cells": [
  {
   "cell_type": "code",
   "execution_count": 1,
   "metadata": {},
   "outputs": [
    {
     "name": "stderr",
     "output_type": "stream",
     "text": [
      "2024-05-13 16:07:13.782557: I tensorflow/core/platform/cpu_feature_guard.cc:210] This TensorFlow binary is optimized to use available CPU instructions in performance-critical operations.\n",
      "To enable the following instructions: AVX2 FMA, in other operations, rebuild TensorFlow with the appropriate compiler flags.\n",
      "2024-05-13 16:07:14.519066: W tensorflow/compiler/tf2tensorrt/utils/py_utils.cc:38] TF-TRT Warning: Could not find TensorRT\n"
     ]
    }
   ],
   "source": [
    "%matplotlib inline\n",
    "from keras.datasets import mnist\n",
    "import numpy as np\n",
    "import matplotlib.pyplot as plt\n",
    "import pandas as pd\n",
    "\n",
    "dir = \"./train_data/\""
   ]
  },
  {
   "cell_type": "code",
   "execution_count": 7,
   "metadata": {},
   "outputs": [
    {
     "name": "stdout",
     "output_type": "stream",
     "text": [
      "(60000, 28, 28)\n",
      "(10000, 28, 28)\n"
     ]
    }
   ],
   "source": [
    "(train_X, train_y), (test_X, test_y) = mnist.load_data()\n",
    "print(train_X.shape)\n",
    "print(test_X.shape)"
   ]
  },
  {
   "cell_type": "code",
   "execution_count": 8,
   "metadata": {},
   "outputs": [
    {
     "data": {
      "image/png": "[encoded data removed]",
      "text/plain": [
       "<Figure size 1000x600 with 8 Axes>"
      ]
     },
     "metadata": {},
     "output_type": "display_data"
    }
   ],
   "source": [
    "rows = 2\n",
    "cols = 4\n",
    "fig, axs = plt.subplots(rows, cols, figsize=(10,6))\n",
    "cnt = 0\n",
    "for i in range(rows):\n",
    "    for j in range(cols):\n",
    "        axs[i,j].imshow(train_X[cnt], cmap=plt.get_cmap('gray'))\n",
    "        axs[i,j].set_title(str(train_y[cnt]))\n",
    "        cnt+=1"
   ]
  },
  {
   "cell_type": "code",
   "execution_count": 10,
   "metadata": {},
   "outputs": [],
   "source": [
    "n = 28\n",
    "N = n*n\n",
    "size = 30000\n",
    "mnist_dir = \"./mnist/\"\n",
    "\n",
    "small_X = train_X[:size, :, :].reshape((size, N))\n",
    "small_X = small_X/255\n",
    "small_y = train_y[:size]\n",
    "\n",
    "train_header_X = str(size) + ' ' + str(N)\n",
    "train_header_y = str(size) + ' ' + str(1)\n",
    "np.savetxt(mnist_dir + 'mnist_data.txt', small_X, header=train_header_X, comments='', fmt='%10.5f')\n",
    "np.savetxt(mnist_dir + 'mnist_ans.txt', small_y, header=train_header_y, fmt='%10.5f', comments='')\n",
    "\n",
    "test_size = 10000\n",
    "small_X_test = test_X[:test_size, :, :].reshape((test_size, N))\n",
    "small_X_test = small_X_test/255.0\n",
    "small_y_test = test_y[:test_size]\n",
    "test_header_X = str(test_size) + ' ' + str(N)\n",
    "test_header_y = str(test_size) + ' ' + str(1)\n",
    "np.savetxt(mnist_dir + 'mnist_data_test.txt', small_X_test, header=test_header_X, comments='', fmt='%10.5f')\n",
    "np.savetxt(mnist_dir + 'mnist_ans_test.txt', small_y_test, header=test_header_y, fmt='%10.5f', comments='')\n"
   ]
  },
  {
   "cell_type": "markdown",
   "metadata": {},
   "source": [
    "Generate data for `TestLinear()`"
   ]
  },
  {
   "cell_type": "code",
   "execution_count": 5,
   "metadata": {},
   "outputs": [],
   "source": [
    "size = 1000\n",
    "n = 5\n",
    "header_train = str(size) + \" \" + str(n)\n",
    "header_ans = str(size) + \"  1\"\n",
    "\n",
    "train = np.random.rand(size, n)\n",
    "ans = train.sum(axis=-1) #+ 42\n",
    "\n",
    "np.savetxt(dir + \"train_linear\", train, comments='', fmt='%10.5f', header=header_train)\n",
    "np.savetxt(dir + \"ans_linear\", ans, comments='', fmt='%10.5f', header=header_ans)\n",
    "\n",
    "\n",
    "test = np.random.rand(size, n)\n",
    "ans = test.sum(axis=-1) #+ 42\n",
    "\n",
    "np.savetxt(dir + \"test_linear\", test, comments='', fmt='%10.5f', header=header_train)\n",
    "np.savetxt(dir + \"test_ans_linear\", ans, comments='', fmt='%10.5f', header=header_ans)"
   ]
  },
  {
   "cell_type": "markdown",
   "metadata": {},
   "source": [
    "Generate data for `TestXor()`"
   ]
  },
  {
   "cell_type": "code",
   "execution_count": 3,
   "metadata": {},
   "outputs": [],
   "source": [
    "size = 100\n",
    "n = 2\n",
    "header_train = str(size) + \" \" + str(n)\n",
    "header_ans = str(size) + \"  1\"\n",
    "\n",
    "train = np.random.rand(size, n) - 0.5\n",
    "ans = (train[:, 0] > 0) ^ (train[:, 1] > 0)\n",
    "\n",
    "np.savetxt(dir + \"train_xor\", train, comments='', fmt='%10.5f', header=header_train)\n",
    "np.savetxt(dir + \"ans_xor\", ans, comments='', fmt='%10.5f', header=header_ans)\n",
    "\n",
    "test = np.random.rand(size, n) - 0.5\n",
    "ans = (test[:, 0] > 0) ^ (test[:, 1] > 0)\n",
    "\n",
    "np.savetxt(dir + \"test_xor\", test, comments='', fmt='%10.5f', header=header_train)\n",
    "np.savetxt(dir + \"test_ans_xor\", ans, comments='', fmt='%10.5f', header=header_ans)"
   ]
  }
 ],
 "metadata": {
  "kernelspec": {
   "display_name": "Python 3",
   "language": "python",
   "name": "python3"
  },
  "language_info": {
   "codemirror_mode": {
    "name": "ipython",
    "version": 3
   },
   "file_extension": ".py",
   "mimetype": "text/x-python",
   "name": "python",
   "nbconvert_exporter": "python",
   "pygments_lexer": "ipython3",
   "version": "3.10.12"
  }
 },
 "nbformat": 4,
 "nbformat_minor": 2
}
